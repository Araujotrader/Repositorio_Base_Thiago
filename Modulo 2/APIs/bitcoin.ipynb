{
 "cells": [
  {
   "cell_type": "code",
   "execution_count": 16,
   "id": "61617fc3",
   "metadata": {},
   "outputs": [
    {
     "name": "stdout",
     "output_type": "stream",
     "text": [
      "200\n",
      "{'bitcoin': {'brl': 623866, 'usd': 115080, 'eur': 98174}}\n"
     ]
    }
   ],
   "source": [
    "# Consumir API publica da CoinGecko\n",
    "# Ver em tempo real, valor do bitcoin em reais, dólares e euro\n",
    "\n",
    "import requests\n",
    "\n",
    "url = 'https://api.coingecko.com/api/v3/simple/price?ids=bitcoin&vs_currencies=brl,usd,eur'\n",
    "\n",
    "conexao = requests.get(url, timeout=20)\n",
    "\n",
    "print(conexao.status_code)\n",
    "#print(conexao.text)\n",
    "\n",
    "crypto = conexao.json()\n",
    "\n",
    "print(crypto)"
   ]
  },
  {
   "cell_type": "code",
   "execution_count": 17,
   "id": "eee43285",
   "metadata": {},
   "outputs": [
    {
     "name": "stdout",
     "output_type": "stream",
     "text": [
      "Valor atual do Bitcoin em Reais: R$ 623,866.00\n",
      "Valor atual do Bitcoin em Dólar: $ 115,080.00\n",
      "Valor atual do Bitcoin em Euro: £ 98,174.00\n"
     ]
    }
   ],
   "source": [
    "valorReal = crypto['bitcoin']['brl']\n",
    "valorDolar = crypto['bitcoin']['usd']\n",
    "valorEuro = crypto['bitcoin']['eur']\n",
    "\n",
    "print(f'Valor atual do Bitcoin em Reais: R$ {valorReal:,.2f}')\n",
    "print(f'Valor atual do Bitcoin em Dólar: $ {valorDolar:,.2f}')\n",
    "print(f'Valor atual do Bitcoin em Euro: £ {valorEuro:,.2f}')"
   ]
  }
 ],
 "metadata": {
  "kernelspec": {
   "display_name": ".venv",
   "language": "python",
   "name": "python3"
  },
  "language_info": {
   "codemirror_mode": {
    "name": "ipython",
    "version": 3
   },
   "file_extension": ".py",
   "mimetype": "text/x-python",
   "name": "python",
   "nbconvert_exporter": "python",
   "pygments_lexer": "ipython3",
   "version": "3.13.2"
  }
 },
 "nbformat": 4,
 "nbformat_minor": 5
}
